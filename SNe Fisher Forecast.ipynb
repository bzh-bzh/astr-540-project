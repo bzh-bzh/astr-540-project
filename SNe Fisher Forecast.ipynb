{
 "cells": [
  {
   "cell_type": "code",
   "execution_count": 1,
   "id": "8e348c59",
   "metadata": {},
   "outputs": [
    {
     "name": "stdout",
     "output_type": "stream",
     "text": [
      "%pylab is deprecated, use %matplotlib inline and import the required libraries.\n",
      "Populating the interactive namespace from numpy and matplotlib\n"
     ]
    }
   ],
   "source": [
    "from dataclasses import dataclass\n",
    "\n",
    "from scipy.integrate import quad\n",
    "import pandas as pd\n",
    "%pylab inline"
   ]
  },
  {
   "cell_type": "markdown",
   "id": "e4704277",
   "metadata": {},
   "source": [
    "# Construct SNe Model"
   ]
  },
  {
   "cell_type": "code",
   "execution_count": 2,
   "id": "467a708b",
   "metadata": {},
   "outputs": [],
   "source": [
    "sne_df = pd.read_csv('lcparam_full_long_zhel.txt', sep=' ')\n",
    "sne_df.sort_values('zcmb', inplace=True)\n",
    "# zcmb is redshift, dmb is magnitude error."
   ]
  },
  {
   "cell_type": "code",
   "execution_count": 3,
   "id": "df7f8af6",
   "metadata": {},
   "outputs": [
    {
     "data": {
      "text/html": [
       "<div>\n",
       "<style scoped>\n",
       "    .dataframe tbody tr th:only-of-type {\n",
       "        vertical-align: middle;\n",
       "    }\n",
       "\n",
       "    .dataframe tbody tr th {\n",
       "        vertical-align: top;\n",
       "    }\n",
       "\n",
       "    .dataframe thead th {\n",
       "        text-align: right;\n",
       "    }\n",
       "</style>\n",
       "<table border=\"1\" class=\"dataframe\">\n",
       "  <thead>\n",
       "    <tr style=\"text-align: right;\">\n",
       "      <th></th>\n",
       "      <th>name</th>\n",
       "      <th>zcmb</th>\n",
       "      <th>zhel</th>\n",
       "      <th>dz</th>\n",
       "      <th>mb</th>\n",
       "      <th>dmb</th>\n",
       "      <th>x1</th>\n",
       "      <th>dx1</th>\n",
       "      <th>color</th>\n",
       "      <th>dcolor</th>\n",
       "      <th>3rdvar</th>\n",
       "      <th>d3rdvar</th>\n",
       "      <th>cov_m_s</th>\n",
       "      <th>cov_m_c</th>\n",
       "      <th>cov_s_c</th>\n",
       "      <th>set</th>\n",
       "      <th>ra</th>\n",
       "      <th>dec</th>\n",
       "      <th>biascor</th>\n",
       "    </tr>\n",
       "  </thead>\n",
       "  <tbody>\n",
       "    <tr>\n",
       "      <th>583</th>\n",
       "      <td>2002cr</td>\n",
       "      <td>0.01012</td>\n",
       "      <td>0.009351</td>\n",
       "      <td>0.0</td>\n",
       "      <td>13.90745</td>\n",
       "      <td>0.19825</td>\n",
       "      <td>0</td>\n",
       "      <td>0</td>\n",
       "      <td>0</td>\n",
       "      <td>0</td>\n",
       "      <td>0</td>\n",
       "      <td>0</td>\n",
       "      <td>0</td>\n",
       "      <td>0</td>\n",
       "      <td>0</td>\n",
       "      <td>0</td>\n",
       "      <td>0</td>\n",
       "      <td>0</td>\n",
       "      <td>NaN</td>\n",
       "    </tr>\n",
       "    <tr>\n",
       "      <th>585</th>\n",
       "      <td>2002dp</td>\n",
       "      <td>0.01038</td>\n",
       "      <td>0.011640</td>\n",
       "      <td>0.0</td>\n",
       "      <td>14.04960</td>\n",
       "      <td>0.20480</td>\n",
       "      <td>0</td>\n",
       "      <td>0</td>\n",
       "      <td>0</td>\n",
       "      <td>0</td>\n",
       "      <td>0</td>\n",
       "      <td>0</td>\n",
       "      <td>0</td>\n",
       "      <td>0</td>\n",
       "      <td>0</td>\n",
       "      <td>0</td>\n",
       "      <td>0</td>\n",
       "      <td>0</td>\n",
       "      <td>NaN</td>\n",
       "    </tr>\n",
       "    <tr>\n",
       "      <th>677</th>\n",
       "      <td>2009an</td>\n",
       "      <td>0.01043</td>\n",
       "      <td>0.008969</td>\n",
       "      <td>0.0</td>\n",
       "      <td>13.92480</td>\n",
       "      <td>0.20035</td>\n",
       "      <td>0</td>\n",
       "      <td>0</td>\n",
       "      <td>0</td>\n",
       "      <td>0</td>\n",
       "      <td>0</td>\n",
       "      <td>0</td>\n",
       "      <td>0</td>\n",
       "      <td>0</td>\n",
       "      <td>0</td>\n",
       "      <td>0</td>\n",
       "      <td>0</td>\n",
       "      <td>0</td>\n",
       "      <td>NaN</td>\n",
       "    </tr>\n",
       "    <tr>\n",
       "      <th>702</th>\n",
       "      <td>2006bh</td>\n",
       "      <td>0.01082</td>\n",
       "      <td>0.010767</td>\n",
       "      <td>0.0</td>\n",
       "      <td>14.00860</td>\n",
       "      <td>0.18445</td>\n",
       "      <td>0</td>\n",
       "      <td>0</td>\n",
       "      <td>0</td>\n",
       "      <td>0</td>\n",
       "      <td>0</td>\n",
       "      <td>0</td>\n",
       "      <td>0</td>\n",
       "      <td>0</td>\n",
       "      <td>0</td>\n",
       "      <td>0</td>\n",
       "      <td>0</td>\n",
       "      <td>0</td>\n",
       "      <td>NaN</td>\n",
       "    </tr>\n",
       "    <tr>\n",
       "      <th>728</th>\n",
       "      <td>1998dk</td>\n",
       "      <td>0.01209</td>\n",
       "      <td>0.013201</td>\n",
       "      <td>0.0</td>\n",
       "      <td>13.97910</td>\n",
       "      <td>0.19140</td>\n",
       "      <td>0</td>\n",
       "      <td>0</td>\n",
       "      <td>0</td>\n",
       "      <td>0</td>\n",
       "      <td>0</td>\n",
       "      <td>0</td>\n",
       "      <td>0</td>\n",
       "      <td>0</td>\n",
       "      <td>0</td>\n",
       "      <td>0</td>\n",
       "      <td>0</td>\n",
       "      <td>0</td>\n",
       "      <td>NaN</td>\n",
       "    </tr>\n",
       "    <tr>\n",
       "      <th>...</th>\n",
       "      <td>...</td>\n",
       "      <td>...</td>\n",
       "      <td>...</td>\n",
       "      <td>...</td>\n",
       "      <td>...</td>\n",
       "      <td>...</td>\n",
       "      <td>...</td>\n",
       "      <td>...</td>\n",
       "      <td>...</td>\n",
       "      <td>...</td>\n",
       "      <td>...</td>\n",
       "      <td>...</td>\n",
       "      <td>...</td>\n",
       "      <td>...</td>\n",
       "      <td>...</td>\n",
       "      <td>...</td>\n",
       "      <td>...</td>\n",
       "      <td>...</td>\n",
       "      <td>...</td>\n",
       "    </tr>\n",
       "    <tr>\n",
       "      <th>1025</th>\n",
       "      <td>Primo</td>\n",
       "      <td>1.55000</td>\n",
       "      <td>1.550387</td>\n",
       "      <td>0.0</td>\n",
       "      <td>26.00705</td>\n",
       "      <td>0.18565</td>\n",
       "      <td>0</td>\n",
       "      <td>0</td>\n",
       "      <td>0</td>\n",
       "      <td>0</td>\n",
       "      <td>0</td>\n",
       "      <td>0</td>\n",
       "      <td>0</td>\n",
       "      <td>0</td>\n",
       "      <td>0</td>\n",
       "      <td>0</td>\n",
       "      <td>0</td>\n",
       "      <td>0</td>\n",
       "      <td>NaN</td>\n",
       "    </tr>\n",
       "    <tr>\n",
       "      <th>1026</th>\n",
       "      <td>geta</td>\n",
       "      <td>1.70000</td>\n",
       "      <td>1.701108</td>\n",
       "      <td>0.0</td>\n",
       "      <td>26.05920</td>\n",
       "      <td>0.28320</td>\n",
       "      <td>0</td>\n",
       "      <td>0</td>\n",
       "      <td>0</td>\n",
       "      <td>0</td>\n",
       "      <td>0</td>\n",
       "      <td>0</td>\n",
       "      <td>0</td>\n",
       "      <td>0</td>\n",
       "      <td>0</td>\n",
       "      <td>0</td>\n",
       "      <td>0</td>\n",
       "      <td>0</td>\n",
       "      <td>NaN</td>\n",
       "    </tr>\n",
       "    <tr>\n",
       "      <th>1027</th>\n",
       "      <td>stone</td>\n",
       "      <td>1.80000</td>\n",
       "      <td>1.799601</td>\n",
       "      <td>0.0</td>\n",
       "      <td>26.20110</td>\n",
       "      <td>0.18795</td>\n",
       "      <td>0</td>\n",
       "      <td>0</td>\n",
       "      <td>0</td>\n",
       "      <td>0</td>\n",
       "      <td>0</td>\n",
       "      <td>0</td>\n",
       "      <td>0</td>\n",
       "      <td>0</td>\n",
       "      <td>0</td>\n",
       "      <td>0</td>\n",
       "      <td>0</td>\n",
       "      <td>0</td>\n",
       "      <td>NaN</td>\n",
       "    </tr>\n",
       "    <tr>\n",
       "      <th>1029</th>\n",
       "      <td>wilson</td>\n",
       "      <td>1.91400</td>\n",
       "      <td>1.914829</td>\n",
       "      <td>0.0</td>\n",
       "      <td>26.16090</td>\n",
       "      <td>0.25590</td>\n",
       "      <td>0</td>\n",
       "      <td>0</td>\n",
       "      <td>0</td>\n",
       "      <td>0</td>\n",
       "      <td>0</td>\n",
       "      <td>0</td>\n",
       "      <td>0</td>\n",
       "      <td>0</td>\n",
       "      <td>0</td>\n",
       "      <td>0</td>\n",
       "      <td>0</td>\n",
       "      <td>0</td>\n",
       "      <td>NaN</td>\n",
       "    </tr>\n",
       "    <tr>\n",
       "      <th>1028</th>\n",
       "      <td>colfax</td>\n",
       "      <td>2.26000</td>\n",
       "      <td>2.259601</td>\n",
       "      <td>0.0</td>\n",
       "      <td>26.87700</td>\n",
       "      <td>0.25480</td>\n",
       "      <td>0</td>\n",
       "      <td>0</td>\n",
       "      <td>0</td>\n",
       "      <td>0</td>\n",
       "      <td>0</td>\n",
       "      <td>0</td>\n",
       "      <td>0</td>\n",
       "      <td>0</td>\n",
       "      <td>0</td>\n",
       "      <td>0</td>\n",
       "      <td>0</td>\n",
       "      <td>0</td>\n",
       "      <td>NaN</td>\n",
       "    </tr>\n",
       "  </tbody>\n",
       "</table>\n",
       "<p>1048 rows × 19 columns</p>\n",
       "</div>"
      ],
      "text/plain": [
       "        name     zcmb      zhel   dz        mb      dmb  x1  dx1  color  \\\n",
       "583   2002cr  0.01012  0.009351  0.0  13.90745  0.19825   0    0      0   \n",
       "585   2002dp  0.01038  0.011640  0.0  14.04960  0.20480   0    0      0   \n",
       "677   2009an  0.01043  0.008969  0.0  13.92480  0.20035   0    0      0   \n",
       "702   2006bh  0.01082  0.010767  0.0  14.00860  0.18445   0    0      0   \n",
       "728   1998dk  0.01209  0.013201  0.0  13.97910  0.19140   0    0      0   \n",
       "...      ...      ...       ...  ...       ...      ...  ..  ...    ...   \n",
       "1025   Primo  1.55000  1.550387  0.0  26.00705  0.18565   0    0      0   \n",
       "1026    geta  1.70000  1.701108  0.0  26.05920  0.28320   0    0      0   \n",
       "1027   stone  1.80000  1.799601  0.0  26.20110  0.18795   0    0      0   \n",
       "1029  wilson  1.91400  1.914829  0.0  26.16090  0.25590   0    0      0   \n",
       "1028  colfax  2.26000  2.259601  0.0  26.87700  0.25480   0    0      0   \n",
       "\n",
       "      dcolor  3rdvar  d3rdvar  cov_m_s  cov_m_c  cov_s_c  set  ra  dec  \\\n",
       "583        0       0        0        0        0        0    0   0    0   \n",
       "585        0       0        0        0        0        0    0   0    0   \n",
       "677        0       0        0        0        0        0    0   0    0   \n",
       "702        0       0        0        0        0        0    0   0    0   \n",
       "728        0       0        0        0        0        0    0   0    0   \n",
       "...      ...     ...      ...      ...      ...      ...  ...  ..  ...   \n",
       "1025       0       0        0        0        0        0    0   0    0   \n",
       "1026       0       0        0        0        0        0    0   0    0   \n",
       "1027       0       0        0        0        0        0    0   0    0   \n",
       "1029       0       0        0        0        0        0    0   0    0   \n",
       "1028       0       0        0        0        0        0    0   0    0   \n",
       "\n",
       "      biascor  \n",
       "583       NaN  \n",
       "585       NaN  \n",
       "677       NaN  \n",
       "702       NaN  \n",
       "728       NaN  \n",
       "...       ...  \n",
       "1025      NaN  \n",
       "1026      NaN  \n",
       "1027      NaN  \n",
       "1029      NaN  \n",
       "1028      NaN  \n",
       "\n",
       "[1048 rows x 19 columns]"
      ]
     },
     "execution_count": 3,
     "metadata": {},
     "output_type": "execute_result"
    }
   ],
   "source": [
    "sne_df"
   ]
  },
  {
   "cell_type": "code",
   "execution_count": 4,
   "id": "ac5b31e6",
   "metadata": {},
   "outputs": [],
   "source": [
    "# Fisher contour center vector.\n",
    "OMEGA_M = 0.30\n",
    "DE_EOS_W = -1\n",
    "NUISANCE = 0\n",
    "LABELS = ['$\\Omega_M$', '$w$', '$\\mathcal{M}$']\n",
    "\n",
    "@dataclass\n",
    "class SNeModel:\n",
    "    Omega_M: float\n",
    "    w: float\n",
    "    nuisance: float\n",
    "    \n",
    "    def __post_init__(self):\n",
    "        assert 0 <= self.Omega_M <= 1\n",
    "        # Since flat universe.\n",
    "        self.Omega_Lambda = 1 - self.Omega_M\n",
    "        \n",
    "    # This becomes the entire expression in the log10 in Equation 12.7.\n",
    "    def d_L_times_H0(self, z):\n",
    "        def E(zp):\n",
    "            return 1 / np.sqrt(self.Omega_M * (1 + zp)**3 + self.Omega_Lambda * (1 + zp)**(3 * (1 + self.w)))\n",
    "        return (1 + z) * quad(E, 0, z)[0]\n",
    "    \n",
    "    def apparent_mag(self):\n",
    "        return 5 * np.log10(np.array([self.d_L_times_H0(z) for z in sne_df.zcmb])) + self.nuisance\n",
    "    \n",
    "MU_MODEL = SNeModel(OMEGA_M, DE_EOS_W, NUISANCE)\n",
    "MU_VEC = MU_MODEL.apparent_mag()"
   ]
  },
  {
   "cell_type": "code",
   "execution_count": 5,
   "id": "ae0d9c28",
   "metadata": {},
   "outputs": [
    {
     "data": {
      "text/plain": [
       "array([-9.9571934 , -9.90167823, -9.89116059, ...,  2.51801566,\n",
       "        2.68166439,  3.12270291])"
      ]
     },
     "execution_count": 5,
     "metadata": {},
     "output_type": "execute_result"
    }
   ],
   "source": [
    "MU_VEC"
   ]
  },
  {
   "cell_type": "code",
   "execution_count": 6,
   "id": "ba1b9916",
   "metadata": {},
   "outputs": [
    {
     "data": {
      "text/plain": [
       "<matplotlib.legend.Legend at 0x7f4aa8221f40>"
      ]
     },
     "execution_count": 6,
     "metadata": {},
     "output_type": "execute_result"
    },
    {
     "data": {
      "image/png": "[encoded data removed]",
      "text/plain": [
       "<Figure size 640x480 with 1 Axes>"
      ]
     },
     "metadata": {},
     "output_type": "display_data"
    }
   ],
   "source": [
    "# Sanity check.\n",
    "plt.scatter(sne_df.zcmb, sne_df.mb, color='black', label='SNe data', s=1)\n",
    "plt.plot(sne_df.zcmb, MU_VEC + np.mean(sne_df.mb) - np.mean(MU_VEC), color='red', label='Superimposed fiducial prediction')\n",
    "plt.xlabel('Redshift')\n",
    "plt.ylabel('Light-curve normalized(?) magnitude $m_B$')\n",
    "plt.legend()"
   ]
  },
  {
   "cell_type": "markdown",
   "id": "a9d743b9",
   "metadata": {},
   "source": [
    "# Calculate partial derivatives of $\\mu$"
   ]
  },
  {
   "cell_type": "code",
   "execution_count": 7,
   "id": "a3b74913",
   "metadata": {},
   "outputs": [],
   "source": [
    "# Create inputs around center vector for calculating derivatives, for Omega_M and w.\n",
    "# Partial derivative of m wrt. script-M is just 1.\n",
    "OMEGA_M_PERT_RANGE = 1e-4\n",
    "DE_EOS_W_PERT_RANGE = 1e-4\n",
    "PARAM_DELTA = 1e-6\n",
    "\n",
    "Omega_M_x = np.arange(OMEGA_M - OMEGA_M_PERT_RANGE, OMEGA_M + OMEGA_M_PERT_RANGE, PARAM_DELTA)\n",
    "de_eos_w_x = np.arange(DE_EOS_W - DE_EOS_W_PERT_RANGE, DE_EOS_W + DE_EOS_W_PERT_RANGE, PARAM_DELTA)\n",
    "\n",
    "Omega_M_y = np.array([SNeModel(o_M, DE_EOS_W, NUISANCE).apparent_mag() for o_M in Omega_M_x])\n",
    "de_eos_w_y = np.array([SNeModel(OMEGA_M, w, NUISANCE).apparent_mag() for w in de_eos_w_x])"
   ]
  },
  {
   "cell_type": "code",
   "execution_count": 8,
   "id": "d35d6444",
   "metadata": {},
   "outputs": [
    {
     "name": "stdout",
     "output_type": "stream",
     "text": [
      "100 100\n"
     ]
    }
   ],
   "source": [
    "Omega_M_center_ind = np.where(np.isclose(Omega_M_x, OMEGA_M, rtol=PARAM_DELTA/10))[0][0]\n",
    "de_eos_w_center_ind = np.where(np.isclose(de_eos_w_x, DE_EOS_W, rtol=PARAM_DELTA/10))[0][0]\n",
    "print(Omega_M_center_ind, de_eos_w_center_ind)"
   ]
  },
  {
   "cell_type": "code",
   "execution_count": 9,
   "id": "a809a9b5",
   "metadata": {},
   "outputs": [
    {
     "data": {
      "image/png": "[encoded data removed]",
      "text/plain": [
       "<Figure size 640x480 with 1 Axes>"
      ]
     },
     "metadata": {},
     "output_type": "display_data"
    },
    {
     "data": {
      "image/png": "[encoded data removed]",
      "text/plain": [
       "<Figure size 640x480 with 1 Axes>"
      ]
     },
     "metadata": {},
     "output_type": "display_data"
    }
   ],
   "source": [
    "# Sanity check that functions are smooth near center.\n",
    "plt.plot(Omega_M_x, Omega_M_y[:, 0], color='green')\n",
    "plt.title(f'Model near central $\\Omega_M$ for closest SNe')\n",
    "plt.xlabel('$\\Omega_M$')\n",
    "plt.xticks(fontsize=8)\n",
    "plt.ylabel('Apparent magnitude');\n",
    "plt.show()\n",
    "plt.plot(de_eos_w_x, de_eos_w_y[:, 0], color='purple')\n",
    "plt.title(f'Model near central $w$ for closest SNe')\n",
    "plt.xlabel('w')\n",
    "plt.xticks(fontsize=6)\n",
    "plt.ylabel('Apparent magnitude');"
   ]
  },
  {
   "cell_type": "code",
   "execution_count": 10,
   "id": "5c33dd21",
   "metadata": {},
   "outputs": [],
   "source": [
    "# Smooth, so OK to numerically get derivatives.\n",
    "d_Omega_M_mu = np.gradient(Omega_M_y, Omega_M_x, axis=0)[Omega_M_center_ind, :]\n",
    "d_w_mu = np.gradient(de_eos_w_y, de_eos_w_x, axis=0)[de_eos_w_center_ind, :]\n",
    "d_nuisance_mu = np.ones_like(d_Omega_M_mu)\n",
    "\n",
    "d_mu = (d_Omega_M_mu, d_w_mu, d_nuisance_mu)"
   ]
  },
  {
   "cell_type": "code",
   "execution_count": 11,
   "id": "e9136422",
   "metadata": {},
   "outputs": [
    {
     "name": "stdout",
     "output_type": "stream",
     "text": [
      "-0.016479451581560434 -0.01647945179133122\n",
      "-0.011419790447549035 -0.011419790907259473\n"
     ]
    }
   ],
   "source": [
    "# Sanity check that spacing in gradient is good.\n",
    "print(d_Omega_M_mu[0], (Omega_M_y[-1, 0] - Omega_M_y[0, 0]) / (Omega_M_x[-1] - Omega_M_x[0]))\n",
    "print(d_w_mu[0], (de_eos_w_y[-1, 0] - de_eos_w_y[0, 0]) / (de_eos_w_x[-1] - de_eos_w_x[0]))"
   ]
  },
  {
   "cell_type": "markdown",
   "id": "d5874452",
   "metadata": {},
   "source": [
    "# Calculate Fisher Matrix\n",
    "\n",
    "Index order is ($\\Omega_M$, $w$, $\\mathcal{M}$)\n",
    "\n",
    "Is `dmb` $\\sigma$ or $\\sigma^2$? Assuming latter for now."
   ]
  },
  {
   "cell_type": "code",
   "execution_count": 19,
   "id": "746a61df",
   "metadata": {},
   "outputs": [
    {
     "name": "stdout",
     "output_type": "stream",
     "text": [
      "[[ 2409.49074524  1023.79021602 -3420.05536171]\n",
      " [ 1023.79021602   454.95296694 -1629.41105144]\n",
      " [-3420.05536171 -1629.41105144  7688.13110096]]\n",
      "Condition number of F is 1214.7988091651453\n"
     ]
    }
   ],
   "source": [
    "fisher_mat = np.zeros((3, 3))\n",
    "\n",
    "for i in range(len(d_mu)):\n",
    "    for j in range(len(d_mu)):\n",
    "        # Covariance has no dependence on model, since model is deterministic.\n",
    "        fisher_mat[i, j] = np.sum(sne_df.dmb**-1 * d_mu[i] * d_mu[j])\n",
    "        \n",
    "print(fisher_mat)\n",
    "print(f'Condition number of F is {np.linalg.cond(fisher_mat)}') # Looks OK...\n",
    "fisher_inv = np.linalg.inv(fisher_mat)"
   ]
  },
  {
   "cell_type": "markdown",
   "id": "8fdcfa46",
   "metadata": {},
   "source": [
    "# Part a) Answer"
   ]
  },
  {
   "cell_type": "code",
   "execution_count": 20,
   "id": "79e6930c",
   "metadata": {},
   "outputs": [
    {
     "name": "stdout",
     "output_type": "stream",
     "text": [
      "Marginalized error for $\\Omega_M$ >= 1.172063e-01\n",
      "Unmarginalized error for $\\Omega_M$ >= 2.037217e-02\n",
      "\n",
      "Marginalized error for $w$ >= 3.336084e-01\n",
      "Unmarginalized error for $w$ >= 4.688315e-02\n",
      "\n",
      "Marginalized error for $\\mathcal{M}$ >= 2.798885e-02\n",
      "Unmarginalized error for $\\mathcal{M}$ >= 1.140485e-02\n",
      "\n"
     ]
    }
   ],
   "source": [
    "for i, l in enumerate(LABELS):\n",
    "    print(f'Marginalized error for {l} >= {(fisher_inv[i, i])**0.5:e}')\n",
    "    print(f'Unmarginalized error for {l} >= {(fisher_mat[i, i])**-0.5:e}')\n",
    "    print()"
   ]
  },
  {
   "cell_type": "markdown",
   "id": "9da94260",
   "metadata": {},
   "source": [
    "# Part b) Answer"
   ]
  },
  {
   "cell_type": "code",
   "execution_count": 22,
   "id": "ccab0dbf",
   "metadata": {},
   "outputs": [
    {
     "name": "stdout",
     "output_type": "stream",
     "text": [
      "Condition number of marginalized F is 122.7363676424217\n"
     ]
    }
   ],
   "source": [
    "proj_fisher_mat = np.linalg.inv(fisher_inv[:2, :2])\n",
    "print(f'Condition number of marginalized F is {np.linalg.cond(proj_fisher_mat)}')\n",
    "proj_fisher_inv = np.linalg.inv(proj_fisher_mat)"
   ]
  },
  {
   "cell_type": "code",
   "execution_count": null,
   "id": "5620fa4f",
   "metadata": {},
   "outputs": [],
   "source": []
  }
 ],
 "metadata": {
  "kernelspec": {
   "display_name": "Python 3 (ipykernel)",
   "language": "python",
   "name": "python3"
  },
  "language_info": {
   "codemirror_mode": {
    "name": "ipython",
    "version": 3
   },
   "file_extension": ".py",
   "mimetype": "text/x-python",
   "name": "python",
   "nbconvert_exporter": "python",
   "pygments_lexer": "ipython3",
   "version": "3.8.13"
  }
 },
 "nbformat": 4,
 "nbformat_minor": 5
}
